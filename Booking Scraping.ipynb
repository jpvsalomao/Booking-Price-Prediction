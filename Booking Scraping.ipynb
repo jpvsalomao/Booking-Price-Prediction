{
 "cells": [
  {
   "cell_type": "code",
   "execution_count": 1,
   "id": "6309b450",
   "metadata": {},
   "outputs": [],
   "source": [
    "from bs4 import BeautifulSoup\n",
    "import requests\n",
    "import random\n",
    "import time\n",
    "import json\n",
    "from pymongo import MongoClient"
   ]
  },
  {
   "cell_type": "code",
   "execution_count": 2,
   "id": "e858cf7d",
   "metadata": {},
   "outputs": [],
   "source": [
    "header = {'user-agent': \"Mozilla/5.0 (Macintosh; Intel Mac OS X 10_11_6) AppleWebKit/537.36 (KHTML, like Gecko) Chrome/56.0.2924.87 Safari/537.36\"}"
   ]
  },
  {
   "cell_type": "code",
   "execution_count": 4,
   "id": "354e3feb",
   "metadata": {},
   "outputs": [],
   "source": [
    "url_header = 'https://www.booking.com/searchresults.html?label=gen173nr-1DCAEoggI46AdIM1gEaIkCiAEBmAExuAEHyAEM2AED6AEB-AECiAIBqAIDuAKJs6SRBsACAdICJGUyZTk4NGE2LWI2MjItNDQ0MS1hZTE5LThkNDE1Yjg5YjFmMtgCBOACAQ&sid=32b41a458c408ac53a6fda0dbb8fe5a4&sb=1&sb_lp=1&src=index&src_elem=sb&error_url=https%3A%2F%2Fwww.booking.com%2Findex.html%3Flabel%3Dgen173nr-1DCAEoggI46AdIM1gEaIkCiAEBmAExuAEHyAEM2AED6AEB-AECiAIBqAIDuAKJs6SRBsACAdICJGUyZTk4NGE2LWI2MjItNDQ0MS1hZTE5LThkNDE1Yjg5YjFmMtgCBOACAQ%3Bsid%3D32b41a458c408ac53a6fda0dbb8fe5a4%3Bsb_price_type%3Dtotal%3Bsrpvid%3D65fb95f2ef7c00af%26%3B&ss=California%2C+United+States&is_ski_area=0&ssne=Las+Vegas&ssne_untouched=Las+Vegas&checkin_year=2022&checkin_month=3&checkin_monthday=19&checkout_year=2022&checkout_month=3&checkout_monthday=27&group_adults=2&group_children=0&no_rooms=1&b_h4u_keep_filters=&from_sf=1&ss_raw=California&ac_position=0&ac_langcode=en&ac_click_type=b&dest_id=2279&dest_type=region&place_id_lat=35.8288&place_id_lon=-119.137276&search_pageview_id=c6af95f5bcde0076&search_selected=true'\n",
    "url_list = []\n",
    "for count in range(0, 40):\n",
    "    offset = count * 25\n",
    "    url = url_header + '&offset=' + str(offset)\n",
    "    url_list.append(url)\n",
    "# page = requests.get(url, headers = header)\n",
    "# soup = BeautifulSoup(page.content, 'html.parser')"
   ]
  },
  {
   "cell_type": "code",
   "execution_count": 5,
   "id": "4b026da5",
   "metadata": {},
   "outputs": [],
   "source": [
    "hotels = []\n",
    "for url in url_list:\n",
    "    page = requests.get(url, headers = header)\n",
    "    soup = BeautifulSoup(page.content, 'html.parser')\n",
    "    hotels.append(soup)\n",
    "    time.sleep(random.randrange(5, 10))"
   ]
  },
  {
   "cell_type": "code",
   "execution_count": 6,
   "id": "f4e5a43e",
   "metadata": {},
   "outputs": [],
   "source": [
    "def filter_number(string):\n",
    "    result = ''\n",
    "    for char in string:\n",
    "        if char.isnumeric():\n",
    "            result += char\n",
    "    return result"
   ]
  },
  {
   "cell_type": "code",
   "execution_count": 7,
   "id": "5b1389a3",
   "metadata": {},
   "outputs": [],
   "source": [
    "client = MongoClient(port=27017)\n",
    "database = client[\"admin\"]\n",
    "collection = database[\"booking_hotels\"]"
   ]
  },
  {
   "cell_type": "code",
   "execution_count": 8,
   "id": "e8deabce",
   "metadata": {},
   "outputs": [],
   "source": [
    "hotel_url_list = []\n",
    "city_list = []\n",
    "id_ = 1\n",
    "\n",
    "for i in range(0, 40):\n",
    "    result_page = hotels[i].findAll('div', {'data-testid':'property-card'})\n",
    "    for each in result_page:\n",
    "        # hotel name\n",
    "        name = each.find('div',{'class':'fde444d7ef _c445487e2'}).text.strip()\n",
    "        \n",
    "        # hotel location: city\n",
    "        city = each.find('span', {'class':'af1ddfc958 eba89149fb'}).text.strip()\n",
    "        city_list.append(city)\n",
    "        \n",
    "        # hotel rating\n",
    "        rating_temp = each.find('div', {'class': '_9c5f726ff bd528f9ea6'})\n",
    "        if rating_temp is not None:\n",
    "            rating = float(rating_temp.text.strip())\n",
    "        else:\n",
    "            rating = 'N/A'\n",
    "        \n",
    "        # room type\n",
    "        room_type = each.find('span',{'class':'_c5d12bf22'}).text.strip()\n",
    "        \n",
    "        # provide free breakfast or not\n",
    "        # 1: free breakfast included\n",
    "        # 0: free breakfast not included\n",
    "        break_temp = each.find('span', {'class': 'c79699a040'})\n",
    "        if break_temp is not None:\n",
    "            breakfast = 1\n",
    "        else:\n",
    "            breakfast = 0\n",
    "        \n",
    "        # price\n",
    "        price_str = each.find('span', {'class':'fde444d7ef _e885fdc12'}).text.strip()\n",
    "        total_price = filter_number(price_str)\n",
    "        adr = int(total_price) / 8\n",
    "        \n",
    "        # reviews\n",
    "        review_str = each.find('div', {'class':'_4abc4c3d5 _1e6021d2f _6e869d6e0'})\n",
    "        if review_str is not None:\n",
    "            review = filter_number(review_str.text.strip())\n",
    "        else:\n",
    "            review = 0\n",
    "        \n",
    "        # cancellation\n",
    "        # 1: free cancellation\n",
    "        # 0: no free cancellation\n",
    "        cancel_temp = each.find('div', {'class': '_3abe99b47'})\n",
    "        if cancel_temp is not None:\n",
    "            cancel = 1\n",
    "        else:\n",
    "            cancel = 0\n",
    "        \n",
    "        # hotel detail pages url\n",
    "        url = each.find('a', {'data-testid':'title-link'})['href']\n",
    "        hotel_url_list.append(url)\n",
    "        \n",
    "        # star\n",
    "        star = each.findAll('span', {'class': '_3ae5d40db _617879812 _6ab38b430'})\n",
    "        star_rating = len(star)\n",
    "        \n",
    "        # preferred partner property: the property pays Booking.com a little bit more to get promoted\n",
    "        # 1 is preferred partner property, 0 otherwise\n",
    "        prefer_image = each.find('span', {'class': '_3ae5d40db a892149490 _5a3a8722d b557ea9051'})\n",
    "        if prefer_image is not None:\n",
    "            prefer = 1\n",
    "        else:\n",
    "            prefer = 0\n",
    "        \n",
    "        item = {'_id': id_, 'name': name, 'city': city, 'room_type': room_type, 'free_breakfast': breakfast,\n",
    "                'free_cancellation': cancel, 'review': review, 'star_rating': star_rating, 'total_price': total_price, \n",
    "                'price_per_day': round(adr, 2), 'preferred_partner_property': prefer}\n",
    "        collection.insert_one(item)\n",
    "        id_+=1\n",
    "        \n",
    "#         print('name:',name, '\\ncity:', city, '\\nraitng:',rating, '\\nbreakfast:', \n",
    "#               breakfast, '\\nprice:', price, '\\nroom:', room_type, '\\nreviews:', review, '\\ncancellation:', cancel, '\\n')"
   ]
  },
  {
   "cell_type": "code",
   "execution_count": 9,
   "id": "35141f98",
   "metadata": {},
   "outputs": [],
   "source": [
    "address_book = []\n",
    "\n",
    "for url in hotel_url_list:\n",
    "    page = requests.get(url, headers = header)\n",
    "    soup = BeautifulSoup(page.content, 'html.parser')\n",
    "    address = soup.find('span', {'class':'hp_address_subtitle js-hp_address_subtitle jq_tooltip'}).text.strip()\n",
    "    address_book.append(address)\n",
    "    \n",
    "    time.sleep(5)"
   ]
  },
  {
   "cell_type": "code",
   "execution_count": 10,
   "id": "3b3684c8",
   "metadata": {},
   "outputs": [],
   "source": [
    "i = 1\n",
    "\n",
    "for address in address_book:\n",
    "    api_geo_url = 'http://api.positionstack.com/v1/forward?access_key=12204865f85e092458ea60090afa1b78&query=' + address\n",
    "    api_geo_page = requests.get(api_geo_url, headers=header)\n",
    "    api_geo_doc = BeautifulSoup(api_geo_page.content, 'html.parser')\n",
    "    geo_info = json.loads(str(api_geo_doc))\n",
    "    \n",
    "    lon = geo_info['data'][0]['longitude']\n",
    "    lat = geo_info['data'][0]['latitude']\n",
    "    \n",
    "    time.sleep(5)\n",
    "    \n",
    "    api_pop_url = 'https://api.api-ninjas.com/v1/city?max_lat={}&max_lon={}'.format(lat, lon)\n",
    "    api_pop_page = requests.get(api_pop_url, headers={'X-Api-Key': 'IXGvS0ImGQLtcUvoUcK+Yw==VzxABswHFD77vV4X'})\n",
    "    api_pop_doc = BeautifulSoup(api_pop_page.content, 'html.parser')\n",
    "    pop_info = json.loads(str(api_pop_doc))\n",
    "    population = pop_info[0]['population']\n",
    "    \n",
    "    collection.update_one({'_id': i}, {'$set' : {'lon': lon, 'lat': lat, 'city_population': population}})\n",
    "    i+=1\n",
    "    \n",
    "    time.sleep(5)"
   ]
  }
 ],
 "metadata": {
  "kernelspec": {
   "display_name": "Python 3 (ipykernel)",
   "language": "python",
   "name": "python3"
  },
  "language_info": {
   "codemirror_mode": {
    "name": "ipython",
    "version": 3
   },
   "file_extension": ".py",
   "mimetype": "text/x-python",
   "name": "python",
   "nbconvert_exporter": "python",
   "pygments_lexer": "ipython3",
   "version": "3.9.7"
  },
  "toc": {
   "base_numbering": 1,
   "nav_menu": {},
   "number_sections": true,
   "sideBar": true,
   "skip_h1_title": false,
   "title_cell": "Table of Contents",
   "title_sidebar": "Contents",
   "toc_cell": false,
   "toc_position": {},
   "toc_section_display": true,
   "toc_window_display": false
  }
 },
 "nbformat": 4,
 "nbformat_minor": 5
}
